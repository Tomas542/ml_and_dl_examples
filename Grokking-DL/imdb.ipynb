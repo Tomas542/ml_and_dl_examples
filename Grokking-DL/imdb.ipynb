{
 "cells": [
  {
   "cell_type": "code",
   "execution_count": 1,
   "metadata": {},
   "outputs": [],
   "source": [
    "import numpy as np"
   ]
  },
  {
   "cell_type": "code",
   "execution_count": 2,
   "metadata": {},
   "outputs": [],
   "source": [
    "with open(\"reviews.txt\") as file:\n",
    "    reviews = file.readlines()\n",
    "\n",
    "with open(\"labels.txt\") as file:\n",
    "    labels = file.readlines()"
   ]
  },
  {
   "cell_type": "code",
   "execution_count": 3,
   "metadata": {},
   "outputs": [
    {
     "data": {
      "text/plain": [
       "'harridan'"
      ]
     },
     "execution_count": 3,
     "metadata": {},
     "output_type": "execute_result"
    }
   ],
   "source": [
    "tokens = list(map(lambda x: set(x.split(\" \")), reviews))\n",
    "vocab = set()\n",
    "\n",
    "for rev in tokens:\n",
    "    for word in rev:\n",
    "        if len(word) > 2:\n",
    "            vocab.add(word)\n",
    "\n",
    "vocab = list(vocab)\n",
    "vocab[0]"
   ]
  }
 ],
 "metadata": {
  "kernelspec": {
   "display_name": ".venv",
   "language": "python",
   "name": "python3"
  },
  "language_info": {
   "codemirror_mode": {
    "name": "ipython",
    "version": 3
   },
   "file_extension": ".py",
   "mimetype": "text/x-python",
   "name": "python",
   "nbconvert_exporter": "python",
   "pygments_lexer": "ipython3",
   "version": "3.9.7"
  },
  "orig_nbformat": 4
 },
 "nbformat": 4,
 "nbformat_minor": 2
}
