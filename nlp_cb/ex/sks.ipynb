{
 "cells": [
  {
   "cell_type": "code",
   "execution_count": 10,
   "metadata": {},
   "outputs": [
    {
     "name": "stdout",
     "output_type": "stream",
     "text": [
      "Длина здания = 15.59, ширина = 41.31, общая площадь = 3220.1145 общая рабочая площадь = 1932.0687, размер аппаратной = 14\n"
     ]
    }
   ],
   "source": [
    "length = (6.37 * 2 + 2.85)\n",
    "width = (3.4 + 2.9 + 5.9 + 2.83 + 2.88 + 2.9 + 2.85  + 5.7 + 5.6 + 6.35)\n",
    "floor = 5\n",
    "square = length * width * floor\n",
    "working_square = 0.6 * square\n",
    "\n",
    "apparat = max(working_square * 0.007, 14)\n",
    "print(f\"Длина здания = {length}, ширина = {width}, общая площадь = {square} общая рабочая площадь = {working_square}, размер аппаратной = {apparat}\")"
   ]
  },
  {
   "cell_type": "code",
   "execution_count": 15,
   "metadata": {},
   "outputs": [
    {
     "name": "stdout",
     "output_type": "stream",
     "text": [
      "кол-во ИР = 483.017, кол-во рабочих мест = 96.603, площадь КЭ = 6.762\n"
     ]
    }
   ],
   "source": [
    "N = working_square / 4\n",
    "num_of_working_space = N / floor\n",
    "\n",
    "square_ke = max(num_of_working_space * 0.07, 6)\n",
    "print(f\"кол-во ИР = {N:.3f}, кол-во рабочих мест = {num_of_working_space:.3f}, площадь КЭ = {square_ke:.3f}\")"
   ]
  }
 ],
 "metadata": {
  "kernelspec": {
   "display_name": ".venv",
   "language": "python",
   "name": "python3"
  },
  "language_info": {
   "codemirror_mode": {
    "name": "ipython",
    "version": 3
   },
   "file_extension": ".py",
   "mimetype": "text/x-python",
   "name": "python",
   "nbconvert_exporter": "python",
   "pygments_lexer": "ipython3",
   "version": "3.9.7"
  },
  "orig_nbformat": 4
 },
 "nbformat": 4,
 "nbformat_minor": 2
}
