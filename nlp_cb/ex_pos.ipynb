{
 "cells": [
  {
   "cell_type": "code",
   "execution_count": 1,
   "metadata": {},
   "outputs": [],
   "source": [
    "import spacy\n",
    "nlp = spacy.load('en_core_web_sm')"
   ]
  },
  {
   "cell_type": "code",
   "execution_count": 2,
   "metadata": {},
   "outputs": [],
   "source": [
    "with open('txt/news_story.txt') as f:\n",
    "    news_story = f.read()"
   ]
  },
  {
   "cell_type": "code",
   "execution_count": 3,
   "metadata": {},
   "outputs": [
    {
     "data": {
      "text/plain": [
       "([8.3, 8.1, 1982, 6.2],\n",
       " [Inflation,\n",
       "  climb,\n",
       "  consumers,\n",
       "  brink,\n",
       "  expansion,\n",
       "  consumer,\n",
       "  price,\n",
       "  index,\n",
       "  measure,\n",
       "  prices,\n",
       "  goods,\n",
       "  services,\n",
       "  %,\n",
       "  year,\n",
       "  estimate,\n",
       "  %,\n",
       "  gain,\n",
       "  ease,\n",
       "  peak,\n",
       "  level,\n",
       "  summer,\n",
       "  food,\n",
       "  energy,\n",
       "  prices,\n",
       "  core,\n",
       "  %,\n",
       "  expectations,\n",
       "  %,\n",
       "  gain,\n",
       "  hopes,\n",
       "  inflation,\n",
       "  month,\n",
       "  month,\n",
       "  gains,\n",
       "  expectations,\n",
       "  вЂ,\n",
       "  %,\n",
       "  headline,\n",
       "  %,\n",
       "  estimate,\n",
       "  %,\n",
       "  increase,\n",
       "  core,\n",
       "  outlook,\n",
       "  %,\n",
       "  gain,\n",
       "  price,\n",
       "  gains,\n",
       "  workers,\n",
       "  ground,\n",
       "  wages,\n",
       "  inflation,\n",
       "  %,\n",
       "  month,\n",
       "  increase,\n",
       "  %,\n",
       "  earnings,\n",
       "  year,\n",
       "  earnings,\n",
       "  %,\n",
       "  earnings,\n",
       "  %,\n",
       "  Inflation,\n",
       "  threat,\n",
       "  recovery,\n",
       "  pandemic,\n",
       "  economy,\n",
       "  stage,\n",
       "  year,\n",
       "  growth,\n",
       "  level,\n",
       "  prices,\n",
       "  pump,\n",
       "  grocery,\n",
       "  stores,\n",
       "  problem,\n",
       "  inflation,\n",
       "  areas,\n",
       "  housing,\n",
       "  auto,\n",
       "  sales,\n",
       "  host,\n",
       "  areas,\n",
       "  officials,\n",
       "  problem,\n",
       "  interest,\n",
       "  rate,\n",
       "  hikes,\n",
       "  year,\n",
       "  pledges,\n",
       "  inflation,\n",
       "  %,\n",
       "  goal,\n",
       "  data,\n",
       "  job,\n",
       "  Credits])"
      ]
     },
     "execution_count": 3,
     "metadata": {},
     "output_type": "execute_result"
    }
   ],
   "source": [
    "nouns = []\n",
    "numeral = []\n",
    "\n",
    "doc = nlp(news_story)\n",
    "for token in doc:\n",
    "    if token.pos_ == \"NOUN\":\n",
    "        nouns.append(token)\n",
    "    elif token.pos_ == 'NUM':\n",
    "        numeral.append(token)\n",
    "\n",
    "numeral[:4], nouns"
   ]
  },
  {
   "cell_type": "code",
   "execution_count": 6,
   "metadata": {},
   "outputs": [
    {
     "name": "stdout",
     "output_type": "stream",
     "text": [
      "NOUN | 96\n",
      "VERB | 27\n",
      "ADV | 15\n",
      "ADP | 39\n",
      "PROPN | 20\n",
      "PUNCT | 32\n",
      "DET | 34\n",
      "PRON | 4\n",
      "AUX | 13\n",
      "CCONJ | 10\n",
      "ADJ | 23\n",
      "SPACE | 7\n",
      "NUM | 19\n",
      "PART | 4\n",
      "SCONJ | 8\n",
      "X | 1\n"
     ]
    }
   ],
   "source": [
    "count = doc.count_by(spacy.attrs.POS)\n",
    "for k, v in count.items():\n",
    "    print(doc.vocab[k].text, '|', v)"
   ]
  }
 ],
 "metadata": {
  "kernelspec": {
   "display_name": ".venv",
   "language": "python",
   "name": "python3"
  },
  "language_info": {
   "codemirror_mode": {
    "name": "ipython",
    "version": 3
   },
   "file_extension": ".py",
   "mimetype": "text/x-python",
   "name": "python",
   "nbconvert_exporter": "python",
   "pygments_lexer": "ipython3",
   "version": "3.9.7"
  },
  "orig_nbformat": 4
 },
 "nbformat": 4,
 "nbformat_minor": 2
}
